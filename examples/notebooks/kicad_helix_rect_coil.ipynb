{
 "cells": [
  {
   "cell_type": "code",
   "execution_count": 1,
   "metadata": {},
   "outputs": [],
   "source": [
    "# 1. Import\n",
    "from kicad_draw.models import HelixRectangleParams\n",
    "from kicad_draw.PCBmodule import PCBdraw"
   ]
  },
  {
   "cell_type": "code",
   "execution_count": 2,
   "metadata": {},
   "outputs": [],
   "source": [
    "# 2. Parameter setting\n",
    "params = HelixRectangleParams(\n",
    "    x0=150.0,\n",
    "    y0=100.0,\n",
    "    width=30.0,\n",
    "    height=20.0,\n",
    "    corner_radius=3.0,\n",
    "    layer_index_list=[0, 1, 2, 3, 4, 5],\n",
    "    track_width=0.5,\n",
    "    connect_width=0.3,\n",
    "    drill_size=0.2,\n",
    "    via_size=0.4,\n",
    "    net_number=1,\n",
    "    port_gap=2.0,\n",
    "    tab_gap=3.0,\n",
    ")"
   ]
  },
  {
   "cell_type": "code",
   "execution_count": 3,
   "metadata": {},
   "outputs": [],
   "source": [
    "# 3. Draw\n",
    "pcb = PCBdraw(stackup=\"default_6layer\", mode=\"file\")\n",
    "pcb.draw_helix_rectangle(params)"
   ]
  },
  {
   "cell_type": "code",
   "execution_count": null,
   "metadata": {},
   "outputs": [],
   "source": [
    "# 4. Export\n",
    "s_expressions = pcb.export()\n",
    "print(\"KiCad s-expressions (copy to your .kicad_pcb file):\")\n",
    "print(s_expressions)\n",
    "\n",
    "# Optional: save to file\n",
    "pcb.save(\"rectangular_helix_coil.kicad_pcb\")\n",
    "print(f\"\\nSaved {len(pcb.elements)} elements to rectangular_helix_coil.kicad_pcb\")"
   ]
  },
  {
   "cell_type": "code",
   "execution_count": null,
   "metadata": {},
   "outputs": [],
   "source": [
    "# 5. Visualization\n",
    "visible_layers = [\n",
    "    0,\n",
    "    1,\n",
    "    2,\n",
    "    3,\n",
    "    4,\n",
    "    5,\n",
    "]  # Edit this list: 0=F.Cu, 1=In1.Cu, 2=In2.Cu, 3=In3.Cu, 4=In4.Cu, 5=B.Cu\n",
    "show_vias = True\n",
    "\n",
    "# Get SVG visualization\n",
    "svg_content = pcb.visualize(visible_layers=visible_layers, show_vias=show_vias)\n",
    "\n",
    "# Display in Jupyter\n",
    "try:\n",
    "    from IPython.display import SVG, display\n",
    "\n",
    "    display(SVG(svg_content))\n",
    "except ImportError:\n",
    "    print(\"SVG content (save to .svg file to view):\")\n",
    "    print(svg_content[:200] + \"...\" if len(svg_content) > 200 else svg_content)"
   ]
  }
 ],
 "metadata": {
  "colab": {
   "include_colab_link": true,
   "provenance": []
  },
  "kernelspec": {
   "display_name": ".venv",
   "language": "python",
   "name": "python3"
  },
  "language_info": {
   "codemirror_mode": {
    "name": "ipython",
    "version": 3
   },
   "file_extension": ".py",
   "mimetype": "text/x-python",
   "name": "python",
   "nbconvert_exporter": "python",
   "pygments_lexer": "ipython3",
   "version": "3.11.13"
  },
  "orig_nbformat": 4
 },
 "nbformat": 4,
 "nbformat_minor": 0
}
